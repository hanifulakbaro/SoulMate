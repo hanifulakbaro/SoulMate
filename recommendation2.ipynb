{
 "cells": [
  {
   "cell_type": "code",
   "execution_count": 28,
   "id": "a7aac0ae",
   "metadata": {},
   "outputs": [],
   "source": [
    "import pandas as pd\n",
    "import torch\n",
    "from transformers import DistilBertTokenizer, DistilBertForSequenceClassification\n",
    "import re"
   ]
  },
  {
   "cell_type": "code",
   "execution_count": 29,
   "id": "f10689e2",
   "metadata": {},
   "outputs": [
    {
     "data": {
      "text/plain": [
       "DistilBertForSequenceClassification(\n",
       "  (distilbert): DistilBertModel(\n",
       "    (embeddings): Embeddings(\n",
       "      (word_embeddings): Embedding(30522, 768, padding_idx=0)\n",
       "      (position_embeddings): Embedding(512, 768)\n",
       "      (LayerNorm): LayerNorm((768,), eps=1e-12, elementwise_affine=True)\n",
       "      (dropout): Dropout(p=0.1, inplace=False)\n",
       "    )\n",
       "    (transformer): Transformer(\n",
       "      (layer): ModuleList(\n",
       "        (0-5): 6 x TransformerBlock(\n",
       "          (attention): DistilBertSdpaAttention(\n",
       "            (dropout): Dropout(p=0.1, inplace=False)\n",
       "            (q_lin): Linear(in_features=768, out_features=768, bias=True)\n",
       "            (k_lin): Linear(in_features=768, out_features=768, bias=True)\n",
       "            (v_lin): Linear(in_features=768, out_features=768, bias=True)\n",
       "            (out_lin): Linear(in_features=768, out_features=768, bias=True)\n",
       "          )\n",
       "          (sa_layer_norm): LayerNorm((768,), eps=1e-12, elementwise_affine=True)\n",
       "          (ffn): FFN(\n",
       "            (dropout): Dropout(p=0.1, inplace=False)\n",
       "            (lin1): Linear(in_features=768, out_features=3072, bias=True)\n",
       "            (lin2): Linear(in_features=3072, out_features=768, bias=True)\n",
       "            (activation): GELUActivation()\n",
       "          )\n",
       "          (output_layer_norm): LayerNorm((768,), eps=1e-12, elementwise_affine=True)\n",
       "        )\n",
       "      )\n",
       "    )\n",
       "  )\n",
       "  (pre_classifier): Linear(in_features=768, out_features=768, bias=True)\n",
       "  (classifier): Linear(in_features=768, out_features=6, bias=True)\n",
       "  (dropout): Dropout(p=0.2, inplace=False)\n",
       ")"
      ]
     },
     "execution_count": 29,
     "metadata": {},
     "output_type": "execute_result"
    }
   ],
   "source": [
    "# ==== 1. Load model dan tokenizer ====\n",
    "model_path = \"./sentiment_model\"\n",
    "model = DistilBertForSequenceClassification.from_pretrained(model_path)\n",
    "tokenizer = DistilBertTokenizer.from_pretrained(model_path)\n",
    "model.eval()"
   ]
  },
  {
   "cell_type": "code",
   "execution_count": 30,
   "id": "3785e327",
   "metadata": {},
   "outputs": [],
   "source": [
    "# ==== 2. Mapping label angka ke string ====\n",
    "label_map = {\n",
    "    0: \"sadness\",\n",
    "    1: \"joy\",\n",
    "    2: \"love\",\n",
    "    3: \"anger\",\n",
    "    4: \"fear\",\n",
    "    5: \"others\"\n",
    "}"
   ]
  },
  {
   "cell_type": "code",
   "execution_count": 31,
   "id": "6463dd83",
   "metadata": {},
   "outputs": [],
   "source": [
    "# ==== 3. Fungsi preprocessing untuk input user ====\n",
    "def clean_text(text):\n",
    "    text = text.lower()\n",
    "    text = re.sub(r'http\\S+|www\\S+|https\\S+', '', text)\n",
    "    text = re.sub(r'\\@w+|\\#','', text)\n",
    "    text = re.sub(r'[^a-zA-Z\\s]', '', text)\n",
    "    text = re.sub(r'\\s+', ' ', text).strip()\n",
    "    return text"
   ]
  },
  {
   "cell_type": "code",
   "execution_count": 32,
   "id": "927bb7bf",
   "metadata": {},
   "outputs": [],
   "source": [
    "# ==== 4. Fungsi prediksi emosi dari inputan user ====\n",
    "def predict_emotion(text):\n",
    "    clean_text_input = clean_text(text)\n",
    "    inputs = tokenizer(clean_text_input, return_tensors=\"pt\", truncation=True, padding=True, max_length=64)\n",
    "    with torch.no_grad():\n",
    "        outputs = model(**inputs)\n",
    "        logits = outputs.logits\n",
    "    label_id = torch.argmax(logits, dim=1).item()\n",
    "    probs = torch.softmax(logits, dim=1).squeeze().tolist()\n",
    "    return label_map[label_id], probs"
   ]
  },
  {
   "cell_type": "code",
   "execution_count": 33,
   "id": "99631b8b",
   "metadata": {},
   "outputs": [],
   "source": [
    "# ==== 5. Load dataset film dan musik ====\n",
    "movies_df = pd.read_csv(\"movies.csv\")\n",
    "music_df = pd.read_csv(\"music.csv\")"
   ]
  },
  {
   "cell_type": "code",
   "execution_count": 34,
   "id": "eb0cc969",
   "metadata": {},
   "outputs": [],
   "source": [
    "# ==== 6. Pastikan kolom label dalam lowercase ====\n",
    "movies_df['mapped_label'] = movies_df['label'].str.lower()\n",
    "music_df['mapped_label'] = music_df['mapped_label'].str.lower()"
   ]
  },
  {
   "cell_type": "code",
   "execution_count": 35,
   "id": "17d07def",
   "metadata": {},
   "outputs": [],
   "source": [
    "# ==== 7. Fungsi rekomendasi film ====\n",
    "def recommend_movies(emotion_label, top_n=3):\n",
    "    filtered = movies_df[movies_df['mapped_label'] == emotion_label]\n",
    "    if len(filtered) >= top_n:\n",
    "        sampled = filtered.sample(n=top_n, random_state=None)\n",
    "    else:\n",
    "        sampled = filtered\n",
    "    return sampled[['title', 'overview']].to_dict(orient='records')"
   ]
  },
  {
   "cell_type": "code",
   "execution_count": 36,
   "id": "99f4c937",
   "metadata": {},
   "outputs": [],
   "source": [
    "# ==== 8. Fungsi rekomendasi musik  ====\n",
    "def recommend_music(emotion_label, top_n=3):\n",
    "    filtered = music_df[music_df['mapped_label'] == emotion_label]\n",
    "    if len(filtered) >= top_n:\n",
    "        sampled = filtered.sample(n=top_n, random_state=None)  # acak setiap panggilan\n",
    "    else:\n",
    "        sampled = filtered\n",
    "    return sampled[['track', 'artist', 'combined_seeds']].to_dict(orient='records')"
   ]
  },
  {
   "cell_type": "code",
   "execution_count": 37,
   "id": "b3514d58",
   "metadata": {},
   "outputs": [],
   "source": [
    "# ==== 9. Fungsi utama untuk menghasilkan rekomendasi ====\n",
    "def get_recommendations(user_input):\n",
    "    emotion, probs = predict_emotion(user_input)\n",
    "    movies = recommend_movies(emotion)\n",
    "    music = recommend_music(emotion)\n",
    "    return {\n",
    "        \"input\": user_input,\n",
    "        \"predicted_emotion\": emotion,\n",
    "        \"movies\": movies,\n",
    "        \"music\": music\n",
    "    }"
   ]
  },
  {
   "cell_type": "code",
   "execution_count": 39,
   "id": "c0a216fb",
   "metadata": {},
   "outputs": [
    {
     "name": "stdout",
     "output_type": "stream",
     "text": [
      "Detected Mood: sadness\n",
      "\n",
      "Film Recommendation:\n",
      "- A Nutcracker Christmas: When her niece is cast in The Philadelphia Ballet’s production of the Nutcracker, a jaded ex-balleri...\n",
      "- The Marva Collins Story: Cicely Tyson was Emmy-nominated as Outstanding Actress for her portrait of a Chicago schoolteacher w...\n",
      "- The Red Badge of Courage: Truncated adaptation of Stephen Crane's novel about a Civil War Union soldier who stuggles to find t...\n",
      "\n",
      "Music Recommendation:\n",
      "- No Need To Worry by Yeasayer (epic sad)\n",
      "- I Like Your Old Stuff Better Than Your New Stuff by Regurgitator (silly)\n",
      "- Bruce's Song by Monty Python (serious)\n"
     ]
    }
   ],
   "source": [
    "# ==== 10. Contoh pemakaian ====\n",
    "if __name__ == \"__main__\":\n",
    "    user_text = input(\"Input your feelings: \")\n",
    "    result = get_recommendations(user_text)\n",
    "\n",
    "    print(\"Detected Mood:\", result[\"predicted_emotion\"])\n",
    "    print(\"\\nFilm Recommendation:\")\n",
    "    for movie in result[\"movies\"]:\n",
    "        print(f\"- {movie['title']}: {movie['overview'][:100]}...\")\n",
    "\n",
    "    print(\"\\nMusic Recommendation:\")\n",
    "    for track in result[\"music\"]:\n",
    "        print(f\"- {track['track']} by {track['artist']} ({track['combined_seeds']})\")"
   ]
  }
 ],
 "metadata": {
  "kernelspec": {
   "display_name": "tws-env",
   "language": "python",
   "name": "python3"
  },
  "language_info": {
   "codemirror_mode": {
    "name": "ipython",
    "version": 3
   },
   "file_extension": ".py",
   "mimetype": "text/x-python",
   "name": "python",
   "nbconvert_exporter": "python",
   "pygments_lexer": "ipython3",
   "version": "3.12.2"
  }
 },
 "nbformat": 4,
 "nbformat_minor": 5
}
